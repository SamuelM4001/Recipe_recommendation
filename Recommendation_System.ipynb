{
 "cells": [
  {
   "cell_type": "code",
   "execution_count": 76,
   "id": "efb2c9fc",
   "metadata": {},
   "outputs": [],
   "source": [
    "#importing necessary libraries\n",
    "import pandas as pd\n",
    "from  sklearn.neighbors import NearestNeighbors\n",
    "import numpy as np\n",
    "import pickle\n",
    "from ingredient_parser_function import ingredient_parser\n",
    "import unidecode\n",
    "from sklearn.metrics.pairwise import cosine_similarity"
   ]
  },
  {
   "cell_type": "code",
   "execution_count": 77,
   "id": "dc7b214b",
   "metadata": {},
   "outputs": [],
   "source": [
    "def ingredient_parser_final(ingredient):\n",
    "    if isinstance(ingredient, list):\n",
    "        ingredients = ingredient\n",
    "    else:\n",
    "        # Split the string into individual ingredients\n",
    "        ingredients = ingredient.split(',')\n",
    "    \n",
    "    ingredients = ','.join(ingredients)\n",
    "    ingredients = unidecode.unidecode(ingredients)\n",
    "    return ingredients\n",
    "\n",
    "def title_parser(title):\n",
    "    title = unidecode.unidecode(title)\n",
    "    return title \n",
    "\n"
   ]
  },
  {
   "cell_type": "code",
   "execution_count": 78,
   "id": "34a17715",
   "metadata": {},
   "outputs": [],
   "source": [
    "def recs(ingredients):\n",
    "    df_recipes = pd.read_csv('C:/Users/ACER/Desktop/Recipe_Recommendation/jupyter notebooks/parsed_data.csv')\n",
    "\n",
    "    # Loading ML model and encoding (encoding is basically the mapping of letters to numbers)\n",
    "    with open('C:/Users/ACER/Desktop/Recipe_Recommendation/jupyter notebooks/encoding.pickle', 'rb') as f:\n",
    "        tfidf_encodings = pickle.load(f)\n",
    "        \n",
    "    with open('C:/Users/ACER/Desktop/Recipe_Recommendation/jupyter notebooks/trained_model.pickle', \"rb\") as f:\n",
    "        tfidf = pickle.load(f)\n",
    "        \n",
    "    try:\n",
    "        ingredients_parsed = ingredient_parser(ingredients)\n",
    "    except (ValueError, TypeError) as e:\n",
    "        ingredients_parsed = ingredient_parser([ingredients])\n",
    "        \n",
    "    if isinstance(ingredients_parsed, str):\n",
    "        ingredients_parsed = [ingredients_parsed]\n",
    "        \n",
    "    ingredients_tfidf = tfidf.transform(ingredients_parsed) #transforms the input according to my tfidf model\n",
    "    \n",
    "    knn = NearestNeighbors(n_neighbors=5, metric='cosine') #Initializes knn algorithm to find 5 nearest neighbours based on cosine similarity\n",
    "    knn.fit(tfidf_encodings)\n",
    "    distances, indices = knn.kneighbors(ingredients_tfidf) #applies the knn algorithm, the output has a 2d array containing the distances of the points from the input and a list containing the indices of the nearest points\n",
    "\n",
    "    # Use a list to store recommendations\n",
    "    recommendations = []\n",
    "\n",
    "    for i in indices[0]:\n",
    "        title = title_parser(df_recipes['Title'][i])\n",
    "        ingredients = ingredient_parser_final(df_recipes['Parsed_Ingredients'][i])\n",
    "        instructions = title_parser(df_recipes['Instructions'][i])\n",
    "        recommendations.append({'Title': title, 'Ingredients': ingredients, 'Instructions': instructions})\n",
    "\n",
    "    # Create the DataFrame from the list\n",
    "    recommendation = pd.DataFrame(recommendations)\n",
    "    \n",
    "    #adding distances to the dataframe\n",
    "    scores = [distances[0][i] for i in range(len(distances[0]))]    \n",
    "    recommendation['Scores']= scores\n",
    "\n",
    "    return recommendation\n"
   ]
  },
  {
   "cell_type": "code",
   "execution_count": 79,
   "id": "b1a7462c",
   "metadata": {},
   "outputs": [
    {
     "name": "stdout",
     "output_type": "stream",
     "text": [
      "                                      Title               Ingredients  \\\n",
      "0  Flatbread with Onions and Mustard Seeds   bread dough onion garlic   \n",
      "1              Phyllo Onion and Dill Purses        phyllo dough onion   \n",
      "2        Anne Willan's Home Canned Tomatoes              tomato onion   \n",
      "3                       Fennel-Tomato Salad              tomato onion   \n",
      "4                          The Meza's Salsa              onion tomato   \n",
      "\n",
      "                                        Instructions    Scores  \n",
      "0  Place dough in large bowl. Cover with towel an...  0.284312  \n",
      "1  Preheat oven to 350 degrees.\\nIn a large saute...  0.426352  \n",
      "2  Pack whole tomatoes into quart/litre jars with...  0.427111  \n",
      "3  Slice ingredients into medium-sized slices. Se...  0.427111  \n",
      "4  Peel leaves off of the cilantro and set aside....  0.427111  \n"
     ]
    }
   ],
   "source": [
    "test_ingredients = \"dough, onions, tomato \" \n",
    "rec = recs(test_ingredients)\n",
    "\n",
    "print(rec)"
   ]
  }
 ],
 "metadata": {
  "kernelspec": {
   "display_name": "Python 3",
   "language": "python",
   "name": "python3"
  },
  "language_info": {
   "codemirror_mode": {
    "name": "ipython",
    "version": 3
   },
   "file_extension": ".py",
   "mimetype": "text/x-python",
   "name": "python",
   "nbconvert_exporter": "python",
   "pygments_lexer": "ipython3",
   "version": "3.11.5"
  }
 },
 "nbformat": 4,
 "nbformat_minor": 5
}
